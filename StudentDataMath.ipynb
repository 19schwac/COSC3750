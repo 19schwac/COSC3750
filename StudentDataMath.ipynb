{
 "cells": [
  {
   "cell_type": "code",
   "execution_count": 1,
   "id": "3100c142",
   "metadata": {},
   "outputs": [],
   "source": [
    "%matplotlib inline\n",
    "import matplotlib.pyplot as plt\n",
    "import numpy as np\n",
    "import pandas as pd\n",
    "from sklearn import datasets\n",
    "import seaborn as sns\n",
    "import scipy.stats as stats\n",
    "import sklearn\n",
    "import statsmodels.api as sm\n",
    "from sklearn import preprocessing\n",
    "from sklearn.preprocessing import scale\n",
    "from sklearn.metrics import mean_squared_error, r2_score\n",
    "from sklearn.model_selection import train_test_split\n",
    "import statsmodels.formula.api as sm\n",
    "from sklearn.linear_model import LinearRegression\n"
   ]
  },
  {
   "cell_type": "code",
   "execution_count": 2,
   "id": "c7a05679",
   "metadata": {},
   "outputs": [
    {
     "ename": "SyntaxError",
     "evalue": "invalid syntax (<ipython-input-2-d0a961313255>, line 13)",
     "output_type": "error",
     "traceback": [
      "\u001b[1;36m  File \u001b[1;32m\"<ipython-input-2-d0a961313255>\"\u001b[1;36m, line \u001b[1;32m13\u001b[0m\n\u001b[1;33m    df.columns = [`str.replace('famsup', 'Family_Support') for str in df.columns]\u001b[0m\n\u001b[1;37m                  ^\u001b[0m\n\u001b[1;31mSyntaxError\u001b[0m\u001b[1;31m:\u001b[0m invalid syntax\n"
     ]
    }
   ],
   "source": [
    "df= pd.read_csv('student_por.csv')\n",
    "\n",
    "df.columns = [str.replace('Fedu', 'Father_Education') for str in df.columns]\n",
    "df.columns = [str.replace('Medu', 'Mother_Education') for str in df.columns]\n",
    "df.columns = [str.replace('Mjob', 'Mother_Job') for str in df.columns]\n",
    "df.columns = [str.replace('Fjob', 'Father_Job') for str in df.columns]\n",
    "df.columns = [str.replace('Pstatus', 'Parental_Status') for str in df.columns]\n",
    "df.columns = [str.replace('famrel', 'Relevance_of_Family') for str in df.columns]\n",
    "df.columns = [str.replace('goout', 'Social_Life') for str in df.columns]\n",
    "df.columns = [str.replace('Dalc', 'Weekday_Alcohol_Consumption') for str in df.columns]\n",
    "df.columns = [str.replace('Walc', 'Weekend_Alcohol_Consumption') for str in df.columns]\n",
    "df.columns = [str.replace('paid', 'Paid_Extra_Classes') for str in df.columns]\n",
    "df.columns = [str.replace('famsup', 'Family_Support') for str in df.columns]\n",
    "df.columns = [str.replace('nursery', 'Attended_Nursery_School') for str in df.columns]\n",
    "df.columns = [str.replace('higher', 'Plans_for_Higher_Education') for str in df.columns]\n",
    "df.columns = [str.replace('G1', '1st_Term_Grade') for str in df.columns]\n",
    "df.columns = [str.replace('G2', '2nd_Term_Grade') for str in df.columns]\n",
    "df.columns = [str.replace('G3', 'Final_Grade') for str in df.columns]\n",
    "\n",
    "df.head()"
   ]
  },
  {
   "cell_type": "code",
   "execution_count": null,
   "id": "e9e82124",
   "metadata": {},
   "outputs": [],
   "source": []
  },
  {
   "cell_type": "code",
   "execution_count": null,
   "id": "f090d31d",
   "metadata": {},
   "outputs": [],
   "source": [
    "df.loc[df['school'] == 'GP', 'school'] = 0\n",
    "df.loc[df['school'] == 'MS', 'school'] = 1\n",
    "df.loc[df['sex'] == 'M', 'sex'] = 0\n",
    "df.loc[df['sex'] == 'F', 'sex'] = 1\n",
    "df.loc[df['address'] == 'U', 'address'] = 0\n",
    "df.loc[df['address'] == 'R', 'address'] = 1\n",
    "df.loc[df['famsize'] == 'LE3', 'famsize'] = 0\n",
    "df.loc[df['famsize'] == 'GT3', 'famsize'] = 1\n",
    "df.loc[df['Parental_Status'] == 'T', 'Parental_Status'] = 0\n",
    "df.loc[df['Parental_Status'] == 'A', 'Parental_Status'] = 1\n",
    "df.loc[df['Mother_Job'] == 'teacher', 'Mother_Job'] = 0\n",
    "df.loc[df['Mother_Job'] == 'health', 'Mother_Job'] = 1\n",
    "df.loc[df['Mother_Job'] == 'services', 'Mother_Job'] = 2\n",
    "df.loc[df['Mother_Job'] == 'at_home', 'Mother_Job'] = 3\n",
    "df.loc[df['Mother_Job'] == 'other', 'Mother_Job'] = 4\n",
    "df.loc[df['Father_Job'] == 'teacher', 'Father_Job'] = 0\n",
    "df.loc[df['Father_Job'] == 'health', 'Father_Job'] = 1\n",
    "df.loc[df['Father_Job'] == 'services', 'Father_Job'] = 2\n",
    "df.loc[df['Father_Job'] == 'at_home', 'Father_Job'] = 3\n",
    "df.loc[df['Father_Job'] == 'other', 'Father_Job'] = 4\n",
    "df.loc[df['reason'] == 'home', 'reason'] = 0\n",
    "df.loc[df['reason'] == 'reputation', 'reason'] = 1\n",
    "df.loc[df['reason'] == 'course', 'reason'] = 2\n",
    "df.loc[df['reason'] == 'other', 'reason'] = 3\n",
    "df.loc[df['guardian'] == 'mother', 'guardian'] = 0\n",
    "df.loc[df['guardian'] == 'father', 'guardian'] = 1\n",
    "df.loc[df['guardian'] == 'other', 'guardian'] = 2\n",
    "df.loc[df['schoolsup'] == 'no', 'schoolsup'] = 0\n",
    "df.loc[df['schoolsup'] == 'yes', 'schoolsup'] = 1\n",
    "df.loc[df['Family_Support'] == 'no', 'Family_Support'] = 0\n",
    "df.loc[df['Family_Support'] == 'yes', 'Family_Support'] = 1\n",
    "df.loc[df['Paid_Extra_Classes'] == 'no', 'Paid_Extra_Classes'] = 0\n",
    "df.loc[df['Paid_Extra_Classes'] == 'yes', 'Paid_Extra_Classes'] = 1\n",
    "df.loc[df['activities'] == 'no', 'activities'] = 0\n",
    "df.loc[df['activities'] == 'yes', 'activities'] = 1\n",
    "df.loc[df['Attended_Nursery_School'] == 'no', 'Attended_Nursery_School'] = 0\n",
    "df.loc[df['Attended_Nursery_School'] == 'yes', 'Attended_Nursery_School'] = 1\n",
    "df.loc[df['Plans_for_Higher_Education'] == 'no', 'Plans_for_Higher_Education'] = 0\n",
    "df.loc[df['Plans_for_Higher_Education'] == 'yes', 'Plans_for_Higher_Education'] = 1\n",
    "df.loc[df['internet'] == 'no', 'internet'] = 0\n",
    "df.loc[df['internet'] == 'yes', 'internet'] = 1\n",
    "df.loc[df['romantic'] == 'no', 'romantic'] = 0\n",
    "df.loc[df['romantic'] == 'yes', 'romantic'] = 1\n",
    "\n",
    "df\n"
   ]
  },
  {
   "cell_type": "code",
   "execution_count": null,
   "id": "540efb9b",
   "metadata": {},
   "outputs": [],
   "source": [
    "gender_count = df.sex.value_counts().index\n",
    "print(gender_count)\n",
    "g = sns.FacetGrid(df, col='sex', height = 3.5, aspect = 0.65)\n",
    "g.map(plt.hist, \"Final_Grade\") "
   ]
  },
  {
   "cell_type": "code",
   "execution_count": null,
   "id": "e5e34731",
   "metadata": {},
   "outputs": [],
   "source": [
    "g = sns.FacetGrid(df, col='schoolsup', height = 3.5, aspect = 0.65)\n",
    "g.map(plt.hist, \"Final_Grade\") "
   ]
  },
  {
   "cell_type": "code",
   "execution_count": null,
   "id": "d0ca20e0",
   "metadata": {},
   "outputs": [],
   "source": [
    "df.groupby('sex').agg({'Final_Grade': np.average})"
   ]
  },
  {
   "cell_type": "code",
   "execution_count": null,
   "id": "fd2739fc",
   "metadata": {},
   "outputs": [],
   "source": [
    "df.groupby('schoolsup').agg({'Final_Grade': np.average})"
   ]
  },
  {
   "cell_type": "code",
   "execution_count": null,
   "id": "c47ae2f7",
   "metadata": {},
   "outputs": [],
   "source": [
    "from scipy import stats\n",
    "maleData=df[df['sex']==0]\n",
    "femaleData=df[df['sex']==1]\n",
    "popMean=df.groupby('sex').agg({'Final_Grade': np.average})\n",
    "tset, pval = stats.ttest_1samp(maleData.Final_Grade,popMean)\n",
    "if pval[1] < 0.05:    # alpha value is 0.05 or 5%\n",
    "   print(\" we are rejecting null hypothesis\")\n",
    "else:\n",
    "  print(\"we are accepting null hypothesis\")"
   ]
  },
  {
   "cell_type": "code",
   "execution_count": null,
   "id": "f9b364dc",
   "metadata": {},
   "outputs": [],
   "source": [
    "maleData=df[df['schoolsup']==0] \n",
    "femaleData=df[df['schoolsup']==1]\n",
    "popMean=df.groupby('schoolsup').agg({'Final_Grade': np.average})\n",
    "tset, pval = stats.ttest_1samp(maleData.Final_Grade,popMean)\n",
    "if pval[1] < 0.05:    # alpha value is 0.05 or 5%\n",
    "   print(\" we are rejecting null hypothesis\")\n",
    "else:\n",
    "  print(\"we are accepting null hypothesis\")\n",
    "#*"
   ]
  },
  {
   "cell_type": "code",
   "execution_count": null,
   "id": "3272acfb",
   "metadata": {},
   "outputs": [],
   "source": [
    "df['school']=pd.to_numeric(df.school)\n",
    "df['sex']=pd.to_numeric(df.sex)\n",
    "df['address']=pd.to_numeric(df.address)\n",
    "df['famsize']=pd.to_numeric(df.famsize)\n",
    "df['Parental_Status']=pd.to_numeric(df.Parental_Status)\n",
    "df['Mother_Job']=pd.to_numeric(df.Mother_Job)\n",
    "df['Father_Job']=pd.to_numeric(df.Father_Job)\n",
    "df['reason']=pd.to_numeric(df.reason)\n",
    "df['guardian']=pd.to_numeric(df.guardian)\n",
    "df['schoolsup']=pd.to_numeric(df.schoolsup)\n",
    "df['Family_Support']=pd.to_numeric(df.Family_Support)\n",
    "df['Paid_Extra_Classes']=pd.to_numeric(df.Paid_Extra_Classes)\n",
    "df['activities']=pd.to_numeric(df.activities)\n",
    "df['Attended_Nursery_School']=pd.to_numeric(df.Attended_Nursery_School)\n",
    "df['Plans_for_Higher_Education']=pd.to_numeric(df.Plans_for_Higher_Education)\n",
    "df['internet']=pd.to_numeric(df.internet)\n",
    "df['romantic']=pd.to_numeric(df.romantic)\n",
    "lr = df.copy()"
   ]
  },
  {
   "cell_type": "code",
   "execution_count": null,
   "id": "3a4a496a",
   "metadata": {},
   "outputs": [],
   "source": [
    "df = df.corr()\n",
    "df = df.drop('school', axis=1)\n",
    "df = df.drop('sex', axis=1)\n",
    "df = df.drop('age', axis=1)\n",
    "df = df.drop('address', axis=1)\n",
    "df = df.drop('famsize', axis=1)\n",
    "df = df.drop('Parental_Status', axis=1)\n",
    "df = df.drop('Mother_Education', axis=1)\n",
    "df = df.drop('Father_Education', axis=1)\n",
    "df = df.drop('Mother_Job', axis=1)\n",
    "df = df.drop('Father_Job', axis=1)\n",
    "df = df.drop('reason', axis=1)\n",
    "df = df.drop('guardian', axis=1)\n",
    "df = df.drop('schoolsup', axis=1)\n",
    "df = df.drop('Family_Support', axis=1)\n",
    "df = df.drop('Paid_Extra_Classes', axis=1)\n",
    "df = df.drop('activities', axis=1)\n",
    "df = df.drop('Attended_Nursery_School', axis=1)\n",
    "df = df.drop('Plans_for_Higher_Education', axis=1)\n",
    "df = df.drop('internet', axis=1)\n",
    "df = df.drop('romantic', axis=1)\n",
    "df = df.drop('traveltime', axis=1)\n",
    "df = df.drop('studytime', axis=1)\n",
    "df = df.drop('failures', axis=1)\n",
    "df = df.drop('Relevance_of_Family', axis=1)\n",
    "df = df.drop('freetime', axis=1)\n",
    "df = df.drop('Social_Life', axis=1)\n",
    "df = df.drop('Weekday_Alcohol_Consumption', axis=1)\n",
    "df = df.drop('Weekend_Alcohol_Consumption', axis=1)\n",
    "df = df.drop('health', axis=1)\n",
    "df = df.drop('absences', axis=1)\n",
    "df = df.drop('1st_Term_Grade', axis=0)\n",
    "df = df.drop('2nd_Term_Grade', axis=0)\n",
    "df = df.drop('Final_Grade', axis=0)\n",
    "df"
   ]
  },
  {
   "cell_type": "code",
   "execution_count": null,
   "id": "84937b64",
   "metadata": {},
   "outputs": [],
   "source": [
    "fig, ax = plt.subplots(figsize=(10,10))  \n",
    "sns.heatmap(df, annot=True, linewidths=.5, ax=ax)\n",
    "plt.title(\"Correlation Heat Map\")"
   ]
  },
  {
   "cell_type": "markdown",
   "id": "58068e71",
   "metadata": {},
   "source": [
    "What the data means:\n",
    "From the heat map above we see that Mother_Education, Father_Education, Studytime, and Plans_For_Higher_Education have the highest positive correlation. This means that as the vale for the category above increases it is likely the performance of the student will be improved.\n",
    "\n",
    "Mother_Education: The student is more likely to have improved grades if their mother has more education.\n",
    "Father_Education: The student is more likely to have improved grades if their father has more education.\n",
    "Studytime: The student is more likely to have improved grades if they increase their studytime.\n",
    "Plans_for_Higher_Education: The student is more likely to have improved grades if they plan on obtaining a higher education.\n",
    "\n",
    "The heatmap above also shows data with negative correlations which means as they increase doing a certain behaivor it is more likely to decrease their overall grade. These data columns include: failures and Weekday_Alcohol_Consumption.\n",
    "\n",
    "Failures: The student is more likely to have lower grades if they have failed preivous courses.\n",
    "SchoolsUp: Students who are more likely to be in extra educational suppourt are more likely to have lower grades.\n",
    "Social Life: Studens who go out with friends are more likely to have lower grades than those who do not."
   ]
  },
  {
   "cell_type": "code",
   "execution_count": null,
   "id": "8a23ecd8",
   "metadata": {},
   "outputs": [],
   "source": [
    "lr.head()"
   ]
  },
  {
   "cell_type": "code",
   "execution_count": null,
   "id": "6891a3e7",
   "metadata": {},
   "outputs": [],
   "source": [
    "X = lr[['1st_Term_Grade', '2nd_Term_Grade']].values\n",
    "y = lr.failures\n",
    "y"
   ]
  },
  {
   "cell_type": "code",
   "execution_count": null,
   "id": "f240991f",
   "metadata": {},
   "outputs": [],
   "source": [
    "X_train, X_test, y_train, y_test = train_test_split(X,y,test_size=0.2)"
   ]
  },
  {
   "cell_type": "code",
   "execution_count": null,
   "id": "77bf4dcc",
   "metadata": {},
   "outputs": [],
   "source": [
    "# Plot the TESTING points\n",
    "plt.scatter(X_test[:, 0], X_test[:, 1], c=y_test, edgecolors='y', marker='v' ,s=100 ,cmap=plt.cm.Paired)\n",
    "plt.xlabel('1st Term Grades')\n",
    "plt.ylabel('2nd Term Grades')\n",
    "plt.title('Portugese Test Data')"
   ]
  },
  {
   "cell_type": "code",
   "execution_count": null,
   "id": "e681b13d",
   "metadata": {},
   "outputs": [],
   "source": [
    "# Plot the TESTING points\n",
    "plt.scatter(X_train[:, 0], X_train[:, 1], c=y_train, edgecolors='y', marker='v' ,s=100 ,cmap=plt.cm.Paired)\n",
    "plt.xlabel('1st Term Grades')\n",
    "plt.ylabel('2nd Term Grades')\n",
    "plt.title('Portugese Train Data')"
   ]
  }
 ],
 "metadata": {
  "kernelspec": {
   "display_name": "Python 3",
   "language": "python",
   "name": "python3"
  },
  "language_info": {
   "codemirror_mode": {
    "name": "ipython",
    "version": 3
   },
   "file_extension": ".py",
   "mimetype": "text/x-python",
   "name": "python",
   "nbconvert_exporter": "python",
   "pygments_lexer": "ipython3",
   "version": "3.8.8"
  }
 },
 "nbformat": 4,
 "nbformat_minor": 5
}
